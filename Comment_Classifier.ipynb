{
  "nbformat": 4,
  "nbformat_minor": 0,
  "metadata": {
    "colab": {
      "name": "Comment Classifier.ipynb",
      "provenance": [],
      "collapsed_sections": [],
      "mount_file_id": "1jSwkIT2Ac6W73sM1ejZuKq--0DbRlOMz",
      "authorship_tag": "ABX9TyMNUCBCgoVH/xVVf4vaQz1R",
      "include_colab_link": true
    },
    "kernelspec": {
      "name": "python3",
      "display_name": "Python 3"
    },
    "language_info": {
      "name": "python"
    }
  },
  "cells": [
    {
      "cell_type": "markdown",
      "metadata": {
        "id": "view-in-github",
        "colab_type": "text"
      },
      "source": [
        "<a href=\"https://colab.research.google.com/github/Anushil007/Review-Classifier/blob/main/Comment_Classifier.ipynb\" target=\"_parent\"><img src=\"https://colab.research.google.com/assets/colab-badge.svg\" alt=\"Open In Colab\"/></a>"
      ]
    },
    {
      "cell_type": "code",
      "execution_count": 17,
      "metadata": {
        "id": "_UeHco8a2gb7"
      },
      "outputs": [],
      "source": [
        "import pandas as pd\n",
        "from pyexpat import model\n",
        "import nltk\n",
        "from nltk.corpus import stopwords\n",
        "import pickle\n",
        "from sklearn.naive_bayes import MultinomialNB\n",
        "from sklearn.feature_extraction.text import CountVectorizer\n",
        "import string\n",
        "\n"
      ]
    },
    {
      "cell_type": "code",
      "source": [
        "path = '/content/drive/MyDrive/Comment Classifier/Hotel_Reviews.csv'\n",
        "datafr = pd.read_csv(path)\n"
      ],
      "metadata": {
        "id": "0sOEgsnM2n8Q"
      },
      "execution_count": 2,
      "outputs": []
    },
    {
      "cell_type": "code",
      "source": [
        "df = datafr[['Negative_Review','Positive_Review']]"
      ],
      "metadata": {
        "id": "dlWEKqSx3bQ9"
      },
      "execution_count": 3,
      "outputs": []
    },
    {
      "cell_type": "code",
      "source": [
        "'''\n",
        "Drop Comments like No Positive or No Negative\n",
        "'''\n",
        "\n",
        "df.drop(df[df['Positive_Review'] == 'No Positive'].index,inplace=True)\n",
        "df.drop(df[df['Negative_Review'] == 'No Negative'].index,inplace=True)\n"
      ],
      "metadata": {
        "colab": {
          "base_uri": "https://localhost:8080/"
        },
        "id": "OPPIapxv3gel",
        "outputId": "6e4b5c8c-724c-4470-d7fd-8f676c763d9c"
      },
      "execution_count": 4,
      "outputs": [
        {
          "output_type": "stream",
          "name": "stderr",
          "text": [
            "/usr/local/lib/python3.7/dist-packages/pandas/core/frame.py:4913: SettingWithCopyWarning: \n",
            "A value is trying to be set on a copy of a slice from a DataFrame\n",
            "\n",
            "See the caveats in the documentation: https://pandas.pydata.org/pandas-docs/stable/user_guide/indexing.html#returning-a-view-versus-a-copy\n",
            "  errors=errors,\n"
          ]
        }
      ]
    },
    {
      "cell_type": "code",
      "source": [
        "'''\n",
        "Assign Label 0 to Negative Reviews\n",
        "'''\n",
        "\n",
        "df1 = pd.DataFrame(columns = ['Text','Label'])\n",
        "df1['Text'] = df['Negative_Review']\n",
        "df1['Label'] = 0\n",
        "#print(df1.head())\n"
      ],
      "metadata": {
        "id": "PvLHQ2NJ3lDb"
      },
      "execution_count": 5,
      "outputs": []
    },
    {
      "cell_type": "code",
      "source": [
        "'''\n",
        "Assign Label 1 to Positive Reviews\n",
        "'''\n",
        "\n",
        "df2= pd.DataFrame(columns = ['Text','Label'])\n",
        "df2['Text'] = df['Positive_Review']\n",
        "df2['Label'] = 1\n",
        "#print(df2.head())\n",
        "\n"
      ],
      "metadata": {
        "id": "HpSkAB7B3t7d"
      },
      "execution_count": 6,
      "outputs": []
    },
    {
      "cell_type": "code",
      "source": [
        "'''\n",
        "Combine 2 DataFrames\n",
        "'''\n",
        "frames = [df1,df2]\n",
        "final_df = pd.concat(frames)\n",
        "#print(final_df.tail())\n",
        "\n",
        "final_df.to_csv('Total_Reviews.csv',index=False)\n"
      ],
      "metadata": {
        "id": "QjtGXdZI3wt7"
      },
      "execution_count": 7,
      "outputs": []
    },
    {
      "cell_type": "code",
      "source": [
        "nltk.download('stopwords')\n",
        "vectorizer = CountVectorizer()\n"
      ],
      "metadata": {
        "colab": {
          "base_uri": "https://localhost:8080/"
        },
        "id": "tW1Ytw1l3zho",
        "outputId": "b8d8afec-6c7a-45ea-9f2e-741034dda8a0"
      },
      "execution_count": 9,
      "outputs": [
        {
          "output_type": "stream",
          "name": "stderr",
          "text": [
            "[nltk_data] Downloading package stopwords to /root/nltk_data...\n",
            "[nltk_data]   Unzipping corpora/stopwords.zip.\n"
          ]
        }
      ]
    },
    {
      "cell_type": "code",
      "source": [
        "def pre_process_df():\n",
        "    '''\n",
        "    Import CSV file and store it in a DataFrame to use.\n",
        "    '''\n",
        "    f_df = pd.read_csv('/content/drive/MyDrive/Comment Classifier/Total_Reviews.csv')\n",
        "    df = pd.DataFrame(columns=['Text','Label'])\n",
        "\n",
        "    df['Text'] = f_df['Text']\n",
        "    df['Label'] = f_df['Label']\n",
        "    return df\n"
      ],
      "metadata": {
        "id": "GtGXi18-4Ju7"
      },
      "execution_count": 10,
      "outputs": []
    },
    {
      "cell_type": "code",
      "source": [
        "def input_process(text):\n",
        "    '''\n",
        "    Remove Stop Words.\n",
        "    '''\n",
        "    translator = str.maketrans('','',string.punctuation)\n",
        "    nopunc = text.translate(translator)\n",
        "    words = [word for word in nopunc.split() if word.lower() not in stopwords.words('english')]\n",
        "    return ' '.join(words)\n"
      ],
      "metadata": {
        "id": "iJBiXK1K4Qbj"
      },
      "execution_count": 11,
      "outputs": []
    },
    {
      "cell_type": "code",
      "source": [
        "def remove_stop_words(input):\n",
        "    final_input = []\n",
        "    for line in input:\n",
        "        line = input_process(line)\n",
        "        final_input.append(line)\n",
        "    return final_input\n"
      ],
      "metadata": {
        "id": "RGx8yhyJ4XKI"
      },
      "execution_count": 12,
      "outputs": []
    },
    {
      "cell_type": "code",
      "source": [
        "def train_model(df):\n",
        "    '''\n",
        "    Define a model and train its transfromed form from the vectorizer.\n",
        "    '''\n",
        "    input = df['Text']\n",
        "    output = df['Label']\n",
        "    input = remove_stop_words(input)\n",
        "    df['Text'] = input\n",
        "    input = vectorizer.fit_transform(input)\n",
        "    nb = MultinomialNB()\n",
        "    nb.fit(input,output)\n",
        "    return nb\n"
      ],
      "metadata": {
        "id": "v5E-D2Nn4Ztq"
      },
      "execution_count": 13,
      "outputs": []
    },
    {
      "cell_type": "code",
      "source": [
        "df = pre_process_df()\n",
        "model = train_model(df)\n",
        "pickle.dump(model,open('classifier.model','wb'))\n",
        "pickle.dump(vectorizer,open('vectorizer.pickle','wb'))"
      ],
      "metadata": {
        "id": "h590vy7E4cJj"
      },
      "execution_count": 14,
      "outputs": []
    },
    {
      "cell_type": "code",
      "source": [
        "def load_model_and_vectorizer():\n",
        "    '''\n",
        "    Load model and vectorizer.\n",
        "    '''\n",
        "    model = pickle.load(open('/content/drive/MyDrive/Comment Classifier/classifier.model','rb'))\n",
        "    vectorizer = pickle.load(open('/content/drive/MyDrive/Comment Classifier/vectorizer.pickle','rb'))\n",
        "    return model, vectorizer\n"
      ],
      "metadata": {
        "id": "M7USi-uL4jFG"
      },
      "execution_count": 23,
      "outputs": []
    },
    {
      "cell_type": "code",
      "source": [
        "model,vectorizer = load_model_and_vectorizer()\n",
        "content = input('Enter Review you want to Classify:')\n",
        "content = input_process(content)"
      ],
      "metadata": {
        "colab": {
          "base_uri": "https://localhost:8080/"
        },
        "id": "Xovzd3Hu41Gh",
        "outputId": "9e7cc5cf-7bad-48f1-d9ab-56cd9e462171"
      },
      "execution_count": 51,
      "outputs": [
        {
          "name": "stdout",
          "output_type": "stream",
          "text": [
            "Enter Review you want to Classify:Good product but installation cost additional Rs 3000 for labour, wire,stand ,plug. Dealers need to improve in providing quick solutions to issues during installation due to height in apartment. Had to postpone installation by one day since installing team didn't have all tools on day one. But installing was done good even after delay. Have check the performance of AC now\n"
          ]
        }
      ]
    },
    {
      "cell_type": "code",
      "source": [
        "content_vec = vectorizer.transform([content])\n",
        "pred = model.predict(content_vec)\n",
        "if pred[0] == 1:\n",
        "        print('Good Review!')\n",
        "else:\n",
        "        print('Bad Review!')"
      ],
      "metadata": {
        "colab": {
          "base_uri": "https://localhost:8080/"
        },
        "id": "_t2cNGg6438l",
        "outputId": "cb339c50-c8dc-466b-b3fd-31b5c2912a70"
      },
      "execution_count": 52,
      "outputs": [
        {
          "output_type": "stream",
          "name": "stdout",
          "text": [
            "Bad Review!\n"
          ]
        }
      ]
    },
    {
      "cell_type": "markdown",
      "source": [
        "TextBlob is used to determine the attitude or the emotion of the writer<br>\n",
        "subjectivity [0:1] is the amount of personal opinion and factual info contained in the text<br>\n",
        "higher value of subjectivity means more personal opinion rather than factual info.<br>\n",
        "polarity [-1:1] defines how positive a statement is. 1 is positive and -1 is negative<br>\n"
      ],
      "metadata": {
        "id": "EclbV3kdC4Qq"
      }
    },
    {
      "cell_type": "code",
      "source": [
        "from textblob import TextBlob\n",
        "Subjectivity = TextBlob(content).sentiment.subjectivity\n",
        "Polarity = TextBlob(content).sentiment.polarity"
      ],
      "metadata": {
        "id": "FVCQyuWaCQAu"
      },
      "execution_count": 53,
      "outputs": []
    },
    {
      "cell_type": "code",
      "source": [
        "Subjectivity,Polarity"
      ],
      "metadata": {
        "colab": {
          "base_uri": "https://localhost:8080/"
        },
        "id": "6NzI81eF48Ph",
        "outputId": "88bd504a-2bf7-4760-f80a-4e6afebfcbe4"
      },
      "execution_count": 54,
      "outputs": [
        {
          "output_type": "execute_result",
          "data": {
            "text/plain": [
              "(0.51875, 0.4020833333333333)"
            ]
          },
          "metadata": {},
          "execution_count": 54
        }
      ]
    },
    {
      "cell_type": "code",
      "source": [
        "if float(pred[0] == 1) and Polarity >= 0 or float(pred[0] == 0) and Polarity < 0:\n",
        "  print('Correct Prediction')\n",
        "else:\n",
        "  print('Incorrect Prediction')"
      ],
      "metadata": {
        "colab": {
          "base_uri": "https://localhost:8080/"
        },
        "id": "E4takcViDxIw",
        "outputId": "d3be5ca1-6159-47ff-aa30-04b18553f4d9"
      },
      "execution_count": 55,
      "outputs": [
        {
          "output_type": "stream",
          "name": "stdout",
          "text": [
            "Incorrect Prediction\n"
          ]
        }
      ]
    },
    {
      "cell_type": "code",
      "source": [
        ""
      ],
      "metadata": {
        "id": "5Elq6vlYF2Ok"
      },
      "execution_count": null,
      "outputs": []
    }
  ]
}